{
 "cells": [
  {
   "cell_type": "markdown",
   "metadata": {},
   "source": [
    "# Module 12 Challenge\n",
    "## Deliverable 1: Scrape Titles and Preview Text from Mars News"
   ]
  },
  {
   "cell_type": "code",
   "execution_count": 1,
   "metadata": {},
   "outputs": [],
   "source": [
    "# Import Splinter and BeautifulSoup\n",
    "from splinter import Browser\n",
    "from bs4 import BeautifulSoup\n",
    "from selenium import webdriver\n",
    "import requests\n"
   ]
  },
  {
   "cell_type": "code",
   "execution_count": 2,
   "metadata": {},
   "outputs": [],
   "source": [
    "browser = Browser('chrome')"
   ]
  },
  {
   "cell_type": "markdown",
   "metadata": {},
   "source": [
    "### Step 1: Visit the Website\n",
    "\n",
    "1. Use automated browsing to visit the [Mars news site](https://static.bc-edx.com/data/web/mars_news/index.html). Inspect the page to identify which elements to scrape.\n",
    "\n",
    "      > **Hint** To identify which elements to scrape, you might want to inspect the page by using Chrome DevTools."
   ]
  },
  {
   "cell_type": "code",
   "execution_count": 3,
   "metadata": {},
   "outputs": [],
   "source": [
    "# Visit the Mars news site\n",
    "url = 'https://static.bc-edx.com/data/web/mars_news/index.html'\n",
    "browser.visit(url)"
   ]
  },
  {
   "cell_type": "markdown",
   "metadata": {},
   "source": [
    "### Step 2: Scrape the Website\n",
    "\n",
    "Create a Beautiful Soup object and use it to extract text elements from the website."
   ]
  },
  {
   "cell_type": "code",
   "execution_count": 4,
   "metadata": {},
   "outputs": [],
   "source": [
    "# Send an HTTP GET request to the website\n",
    "response = requests.get(url)"
   ]
  },
  {
   "cell_type": "code",
   "execution_count": 5,
   "metadata": {},
   "outputs": [
    {
     "name": "stdout",
     "output_type": "stream",
     "text": [
      "{'title': \"NASA's MAVEN Observes Martian Light Show Caused by Major Solar Storm\", 'preview': 'For the first time in its eight years orbiting Mars, NASAâ\\x80\\x99s MAVEN mission witnessed two different types of ultraviolet aurorae simultaneously, the result of solar storms that began on Aug. 27.'}\n",
      "{'title': \"NASA Prepares to Say 'Farewell' to InSight Spacecraft\", 'preview': 'A closer look at what goes into wrapping up the mission as the spacecraftâ\\x80\\x99s power supply continues to dwindle.'}\n",
      "{'title': 'NASA and ESA Agree on Next Steps to Return Mars Samples to Earth', 'preview': 'The agencyâ\\x80\\x99s Perseverance rover will establish the first sample depot on Mars.'}\n",
      "{'title': \"NASA's InSight Lander Detects Stunning Meteoroid Impact on Mars\", 'preview': 'The agencyâ\\x80\\x99s lander felt the ground shake during the impact while cameras aboard the Mars Reconnaissance Orbiter spotted the yawning new crater from space.'}\n",
      "{'title': 'NASA To Host Briefing on InSight, Mars Reconnaissance Orbiter Findings', 'preview': 'Scientists from two Mars missions will discuss how they combined images and data for a major finding on the Red Planet.'}\n",
      "{'title': 'Why NASA Is Trying To Crash Land on Mars', 'preview': 'Like a carâ\\x80\\x99s crumple zone, the experimental SHIELD lander is designed to absorb a hard impact.'}\n",
      "{'title': 'Curiosity Mars Rover Reaches Long-Awaited Salty Region', 'preview': 'After years of climbing, the Mars rover has arrived at a special region believed to have formed as Marsâ\\x80\\x99 climate was drying.'}\n",
      "{'title': 'Mars Mission Shields Up for Tests', 'preview': 'Protecting Mars Sample Return spacecraft from micrometeorites requires high-caliber work.'}\n",
      "{'title': \"NASA's InSight Waits Out Dust Storm\", 'preview': 'InSightâ\\x80\\x99s team is taking steps to help the solar-powered lander continue operating for as long as possible.'}\n",
      "{'title': \"NASA's InSight 'Hears' Its First Meteoroid Impacts on Mars\", 'preview': 'The Mars landerâ\\x80\\x99s seismometer has picked up vibrations from four separate impacts in the past two years.'}\n",
      "{'title': \"NASA's Perseverance Rover Investigates Geologically Rich Mars Terrain\", 'preview': 'The latest findings provide greater detail on a region of the Red Planet that has a watery past and is yielding promising samples for the NASA-ESA Mars Sample Return campaign.'}\n",
      "{'title': 'NASA to Host Briefing on Perseverance Mars Rover Mission Operations', 'preview': 'Members of the mission will discuss the roverâ\\x80\\x99s activities as it gathers samples in an ancient river delta.'}\n",
      "{'title': \"NASA's Perseverance Makes New Discoveries in Mars' Jezero Crater\", 'preview': 'The rover found that Jezero Craterâ\\x80\\x99s floor is made up of volcanic rocks that have interacted with water.'}\n",
      "{'title': \"10 Years Since Landing, NASA's Curiosity Mars Rover Still Has Drive\", 'preview': 'Despite signs of wear, the intrepid spacecraft is about to start an exciting new chapter of its mission as it climbs a Martian mountain.'}\n",
      "{'title': \"SAM's Top 5 Discoveries Aboard NASA's Curiosity Rover at Mars\", 'preview': 'â\\x80\\x9cSelfieâ\\x80\\x9d of the Curiosity rover with inset showing the SAM instrument prior to installation on the rover.'}\n"
     ]
    }
   ],
   "source": [
    "# Create a Beautiful Soup object\n",
    "soup = BeautifulSoup(response.text, 'html.parser')\n",
    "\n",
    "# Find all the news articles\n",
    "articles = soup.find_all('div', class_='list_text')\n",
    "\n",
    "# Initialize an empty list to store the scraped data\n",
    "news_list = []\n",
    "\n",
    "# Loop through each article and extract the title and preview text\n",
    "for article in articles:\n",
    "    title = article.find('div', class_='content_title').text.strip()\n",
    "    preview = article.find('div', class_='article_teaser_body').text.strip()\n",
    "    \n",
    "    # Create a dictionary for each article\n",
    "    article_dict = {'title': title, 'preview': preview}\n",
    "    \n",
    "    # Append the dictionary to the list\n",
    "    news_list.append(article_dict)\n",
    "\n",
    "# Print the list of dictionaries\n",
    "for news in news_list:\n",
    "    print(news)\n",
    "\n"
   ]
  },
  {
   "cell_type": "code",
   "execution_count": 6,
   "metadata": {},
   "outputs": [
    {
     "name": "stdout",
     "output_type": "stream",
     "text": [
      "html News - Mars Exploration Program MARS Planet Science Exploration Program The Red Planet The Program News & Events Multimedia Missions More News Latest All Categories November 9, 2022 NASA's MAVEN Observes Martian Light Show Caused by Major Solar Storm For the first time in its eight years orbiting Mars, NASAâs MAVEN mission witnessed two different types of ultraviolet aurorae simultaneously, the result of solar storms that began on Aug. 27. November 1, 2022 NASA Prepares to Say 'Farewell' to InSight Spacecraft A closer look at what goes into wrapping up the mission as the spacecraftâs power supply continues to dwindle. October 28, 2022 NASA and ESA Agree on Next Steps to Return Mars Samples to Earth The agencyâs Perseverance rover will establish the first sample depot on Mars. October 27, 2022 NASA's InSight Lander Detects Stunning Meteoroid Impact on Mars The agencyâs lander felt the ground shake during the impact while cameras aboard the Mars Reconnaissance Orbiter spotted the yawning new crater from space. October 21, 2022 NASA To Host Briefing on InSight, Mars Reconnaissance Orbiter Findings Scientists from two Mars missions will discuss how they combined images and data for a major finding on the Red Planet. October 20, 2022 Why NASA Is Trying To Crash Land on Mars Like a carâs crumple zone, the experimental SHIELD lander is designed to absorb a hard impact. October 19, 2022 Curiosity Mars Rover Reaches Long-Awaited Salty Region After years of climbing, the Mars rover has arrived at a special region believed to have formed as Marsâ climate was drying. October 12, 2022 Mars Mission Shields Up for Tests Protecting Mars Sample Return spacecraft from micrometeorites requires high-caliber work. October 7, 2022 NASA's InSight Waits Out Dust Storm InSightâs team is taking steps to help the solar-powered lander continue operating for as long as possible. September 19, 2022 NASA's InSight 'Hears' Its First Meteoroid Impacts on Mars The Mars landerâs seismometer has picked up vibrations from four separate impacts in the past two years. September 15, 2022 NASA's Perseverance Rover Investigates Geologically Rich Mars Terrain The latest findings provide greater detail on a region of the Red Planet that has a watery past and is yielding promising samples for the NASA-ESA Mars Sample Return campaign. September 12, 2022 NASA to Host Briefing on Perseverance Mars Rover Mission Operations Members of the mission will discuss the roverâs activities as it gathers samples in an ancient river delta. August 25, 2022 NASA's Perseverance Makes New Discoveries in Mars' Jezero Crater The rover found that Jezero Craterâs floor is made up of volcanic rocks that have interacted with water. August 5, 2022 10 Years Since Landing, NASA's Curiosity Mars Rover Still Has Drive Despite signs of wear, the intrepid spacecraft is about to start an exciting new chapter of its mission as it climbs a Martian mountain. August 4, 2022 SAM's Top 5 Discoveries Aboard NASA's Curiosity Rover at Mars âSelfieâ of the Curiosity rover with inset showing the SAM instrument prior to installation on the rover. More You Might Also Like NASA Marks 25 Years Since Pathfinder Touched Down on Mars NASA's Perseverance Rover Captures Video of Solar Eclipse on Mars NASA, UAE Mars Missions Agree to Share Science Data The Red Planet Dashboard Science Goals The Planet The Program Mission Statement About the Program Organization Why Mars? Multimedia Images Videos More Resources Missions Past Present Future Images and news content extracted from NASA's Mars News website on November 9, 2022. Images used in accordance with the JPL Image Use Policy . This site is operated by edX Boot Camps LLC for educational purposes only. This is not a website endorsed by NASA. This website is intended only for internal academic purposes.\n"
     ]
    }
   ],
   "source": [
    "# Find all the text elements in the HTML\n",
    "text_elements = soup.find_all(string=True)\n",
    "\n",
    "# Create an empty list to store the extracted text\n",
    "all_text = []\n",
    "\n",
    "# Loop through the text elements and append them to the list\n",
    "for text in text_elements:\n",
    "    # Exclude text with only whitespace or empty strings\n",
    "    if text.strip():\n",
    "        all_text.append(text.strip())\n",
    "\n",
    "# Join the extracted text elements into a single string\n",
    "all_text_combined = ' '.join(all_text)\n",
    "\n",
    "# Print the extracted text\n",
    "print(all_text_combined)\n",
    "\n",
    "\n"
   ]
  },
  {
   "cell_type": "code",
   "execution_count": 7,
   "metadata": {},
   "outputs": [
    {
     "name": "stdout",
     "output_type": "stream",
     "text": [
      "['html', 'News - Mars Exploration Program', 'MARS Planet Science', 'Exploration Program', 'The Red Planet', 'The Program', 'News & Events', 'Multimedia', 'Missions', 'More', 'News', 'Latest', 'All Categories', 'November 9, 2022', \"NASA's MAVEN Observes Martian Light Show Caused by Major Solar Storm\", 'For the first time in its eight years orbiting Mars, NASAâ\\x80\\x99s MAVEN mission witnessed two different types of ultraviolet aurorae simultaneously, the result of solar storms that began on Aug. 27.', 'November 1, 2022', \"NASA Prepares to Say 'Farewell' to InSight Spacecraft\", 'A closer look at what goes into wrapping up the mission as the spacecraftâ\\x80\\x99s power supply continues to dwindle.', 'October 28, 2022', 'NASA and ESA Agree on Next Steps to Return Mars Samples to Earth', 'The agencyâ\\x80\\x99s Perseverance rover will establish the first sample depot on Mars.', 'October 27, 2022', \"NASA's InSight Lander Detects Stunning Meteoroid Impact on Mars\", 'The agencyâ\\x80\\x99s lander felt the ground shake during the impact while cameras aboard the Mars Reconnaissance Orbiter spotted the yawning new crater from space.', 'October 21, 2022', 'NASA To Host Briefing on InSight, Mars Reconnaissance Orbiter Findings', 'Scientists from two Mars missions will discuss how they combined images and data for a major finding on the Red Planet.', 'October 20, 2022', 'Why NASA Is Trying To Crash Land on Mars', 'Like a carâ\\x80\\x99s crumple zone, the experimental SHIELD lander is designed to absorb a hard impact.', 'October 19, 2022', 'Curiosity Mars Rover Reaches Long-Awaited Salty Region', 'After years of climbing, the Mars rover has arrived at a special region believed to have formed as Marsâ\\x80\\x99 climate was drying.', 'October 12, 2022', 'Mars Mission Shields Up for Tests', 'Protecting Mars Sample Return spacecraft from micrometeorites requires high-caliber work.', 'October 7, 2022', \"NASA's InSight Waits Out Dust Storm\", 'InSightâ\\x80\\x99s team is taking steps to help the solar-powered lander continue operating for as long as possible.', 'September 19, 2022', \"NASA's InSight 'Hears' Its First Meteoroid Impacts on Mars\", 'The Mars landerâ\\x80\\x99s seismometer has picked up vibrations from four separate impacts in the past two years.', 'September 15, 2022', \"NASA's Perseverance Rover Investigates Geologically Rich Mars Terrain\", 'The latest findings provide greater detail on a region of the Red Planet that has a watery past and is yielding promising samples for the NASA-ESA Mars Sample Return campaign.', 'September 12, 2022', 'NASA to Host Briefing on Perseverance Mars Rover Mission Operations', 'Members of the mission will discuss the roverâ\\x80\\x99s activities as it gathers samples in an ancient river delta.', 'August 25, 2022', \"NASA's Perseverance Makes New Discoveries in Mars' Jezero Crater\", 'The rover found that Jezero Craterâ\\x80\\x99s floor is made up of volcanic rocks that have interacted with water.', 'August 5, 2022', \"10 Years Since Landing, NASA's Curiosity Mars Rover Still Has Drive\", 'Despite signs of wear, the intrepid spacecraft is about to start an exciting new chapter of its mission as it climbs a Martian mountain.', 'August 4, 2022', \"SAM's Top 5 Discoveries Aboard NASA's Curiosity Rover at Mars\", 'â\\x80\\x9cSelfieâ\\x80\\x9d of the Curiosity rover with inset showing the SAM instrument prior to installation on the rover.', 'More', 'You Might Also Like', 'NASA Marks 25 Years Since Pathfinder Touched Down on Mars', \"NASA's Perseverance Rover Captures Video of Solar Eclipse on Mars\", 'NASA, UAE Mars Missions Agree to Share Science Data', 'The Red Planet', 'Dashboard', 'Science Goals', 'The Planet', 'The Program', 'Mission Statement', 'About the Program', 'Organization Why Mars?', 'Multimedia', 'Images', 'Videos', 'More Resources', 'Missions', 'Past', 'Present', 'Future', \"Images and news content extracted from NASA's\", 'Mars News', 'website on November 9, 2022.', 'Images used in accordance with the', 'JPL Image Use Policy', '.', 'This site is operated by edX Boot Camps LLC for educational purposes only.', 'This is not a website endorsed by NASA. This website is intended only for internal academic purposes.']\n"
     ]
    }
   ],
   "source": [
    "# Print all the text\n",
    "print(all_text)"
   ]
  },
  {
   "cell_type": "markdown",
   "metadata": {},
   "source": [
    "### Step 3: Store the Results\n",
    "\n",
    "Extract the titles and preview text of the news articles that you scraped. Store the scraping results in Python data structures as follows:\n",
    "\n",
    "* Store each title-and-preview pair in a Python dictionary. And, give each dictionary two keys: `title` and `preview`. An example is the following:\n",
    "\n",
    "  ```python\n",
    "  {'title': \"NASA's MAVEN Observes Martian Light Show Caused by Major Solar Storm\", \n",
    "   'preview': \"For the first time in its eight years orbiting Mars, NASA’s MAVEN mission witnessed two different types of ultraviolet aurorae simultaneously, the result of solar storms that began on Aug. 27.\"\n",
    "  }\n",
    "  ```\n",
    "\n",
    "* Store all the dictionaries in a Python list.\n",
    "\n",
    "* Print the list in your notebook."
   ]
  },
  {
   "cell_type": "code",
   "execution_count": 8,
   "metadata": {},
   "outputs": [],
   "source": [
    "headers = {\n",
    "    'User-Agent': 'Mozilla/5.0 (Windows NT 10.0; Win64; x64) AppleWebKit/537.36 (KHTML, like Gecko) Chrome/58.0.3029.110 Safari/537.36'\n",
    "}\n",
    "\n",
    "response = requests.get(url, headers=headers)"
   ]
  },
  {
   "cell_type": "code",
   "execution_count": 9,
   "metadata": {},
   "outputs": [
    {
     "name": "stdout",
     "output_type": "stream",
     "text": [
      "{'title': \"NASA's MAVEN Observes Martian Light Show Caused by Major Solar Storm\", 'preview': 'For the first time in its eight years orbiting Mars, NASAâ\\x80\\x99s MAVEN mission witnessed two different types of ultraviolet aurorae simultaneously, the result of solar storms that began on Aug. 27.'}\n",
      "{'title': \"NASA Prepares to Say 'Farewell' to InSight Spacecraft\", 'preview': 'A closer look at what goes into wrapping up the mission as the spacecraftâ\\x80\\x99s power supply continues to dwindle.'}\n",
      "{'title': 'NASA and ESA Agree on Next Steps to Return Mars Samples to Earth', 'preview': 'The agencyâ\\x80\\x99s Perseverance rover will establish the first sample depot on Mars.'}\n",
      "{'title': \"NASA's InSight Lander Detects Stunning Meteoroid Impact on Mars\", 'preview': 'The agencyâ\\x80\\x99s lander felt the ground shake during the impact while cameras aboard the Mars Reconnaissance Orbiter spotted the yawning new crater from space.'}\n",
      "{'title': 'NASA To Host Briefing on InSight, Mars Reconnaissance Orbiter Findings', 'preview': 'Scientists from two Mars missions will discuss how they combined images and data for a major finding on the Red Planet.'}\n",
      "{'title': 'Why NASA Is Trying To Crash Land on Mars', 'preview': 'Like a carâ\\x80\\x99s crumple zone, the experimental SHIELD lander is designed to absorb a hard impact.'}\n",
      "{'title': 'Curiosity Mars Rover Reaches Long-Awaited Salty Region', 'preview': 'After years of climbing, the Mars rover has arrived at a special region believed to have formed as Marsâ\\x80\\x99 climate was drying.'}\n",
      "{'title': 'Mars Mission Shields Up for Tests', 'preview': 'Protecting Mars Sample Return spacecraft from micrometeorites requires high-caliber work.'}\n",
      "{'title': \"NASA's InSight Waits Out Dust Storm\", 'preview': 'InSightâ\\x80\\x99s team is taking steps to help the solar-powered lander continue operating for as long as possible.'}\n",
      "{'title': \"NASA's InSight 'Hears' Its First Meteoroid Impacts on Mars\", 'preview': 'The Mars landerâ\\x80\\x99s seismometer has picked up vibrations from four separate impacts in the past two years.'}\n",
      "{'title': \"NASA's Perseverance Rover Investigates Geologically Rich Mars Terrain\", 'preview': 'The latest findings provide greater detail on a region of the Red Planet that has a watery past and is yielding promising samples for the NASA-ESA Mars Sample Return campaign.'}\n",
      "{'title': 'NASA to Host Briefing on Perseverance Mars Rover Mission Operations', 'preview': 'Members of the mission will discuss the roverâ\\x80\\x99s activities as it gathers samples in an ancient river delta.'}\n",
      "{'title': \"NASA's Perseverance Makes New Discoveries in Mars' Jezero Crater\", 'preview': 'The rover found that Jezero Craterâ\\x80\\x99s floor is made up of volcanic rocks that have interacted with water.'}\n",
      "{'title': \"10 Years Since Landing, NASA's Curiosity Mars Rover Still Has Drive\", 'preview': 'Despite signs of wear, the intrepid spacecraft is about to start an exciting new chapter of its mission as it climbs a Martian mountain.'}\n",
      "{'title': \"SAM's Top 5 Discoveries Aboard NASA's Curiosity Rover at Mars\", 'preview': 'â\\x80\\x9cSelfieâ\\x80\\x9d of the Curiosity rover with inset showing the SAM instrument prior to installation on the rover.'}\n"
     ]
    }
   ],
   "source": [
    "for news in news_list:\n",
    "    print(news)"
   ]
  },
  {
   "cell_type": "code",
   "execution_count": 10,
   "metadata": {},
   "outputs": [
    {
     "name": "stdout",
     "output_type": "stream",
     "text": [
      "{'title': \"NASA's MAVEN Observes Martian Light Show Caused by Major Solar Storm\", 'preview': 'For the first time in its eight years orbiting Mars, NASAâ\\x80\\x99s MAVEN mission witnessed two different types of ultraviolet aurorae simultaneously, the result of solar storms that began on Aug. 27.'}\n",
      "{'title': \"NASA Prepares to Say 'Farewell' to InSight Spacecraft\", 'preview': 'A closer look at what goes into wrapping up the mission as the spacecraftâ\\x80\\x99s power supply continues to dwindle.'}\n",
      "{'title': 'NASA and ESA Agree on Next Steps to Return Mars Samples to Earth', 'preview': 'The agencyâ\\x80\\x99s Perseverance rover will establish the first sample depot on Mars.'}\n",
      "{'title': \"NASA's InSight Lander Detects Stunning Meteoroid Impact on Mars\", 'preview': 'The agencyâ\\x80\\x99s lander felt the ground shake during the impact while cameras aboard the Mars Reconnaissance Orbiter spotted the yawning new crater from space.'}\n",
      "{'title': 'NASA To Host Briefing on InSight, Mars Reconnaissance Orbiter Findings', 'preview': 'Scientists from two Mars missions will discuss how they combined images and data for a major finding on the Red Planet.'}\n",
      "{'title': 'Why NASA Is Trying To Crash Land on Mars', 'preview': 'Like a carâ\\x80\\x99s crumple zone, the experimental SHIELD lander is designed to absorb a hard impact.'}\n",
      "{'title': 'Curiosity Mars Rover Reaches Long-Awaited Salty Region', 'preview': 'After years of climbing, the Mars rover has arrived at a special region believed to have formed as Marsâ\\x80\\x99 climate was drying.'}\n",
      "{'title': 'Mars Mission Shields Up for Tests', 'preview': 'Protecting Mars Sample Return spacecraft from micrometeorites requires high-caliber work.'}\n",
      "{'title': \"NASA's InSight Waits Out Dust Storm\", 'preview': 'InSightâ\\x80\\x99s team is taking steps to help the solar-powered lander continue operating for as long as possible.'}\n",
      "{'title': \"NASA's InSight 'Hears' Its First Meteoroid Impacts on Mars\", 'preview': 'The Mars landerâ\\x80\\x99s seismometer has picked up vibrations from four separate impacts in the past two years.'}\n",
      "{'title': \"NASA's Perseverance Rover Investigates Geologically Rich Mars Terrain\", 'preview': 'The latest findings provide greater detail on a region of the Red Planet that has a watery past and is yielding promising samples for the NASA-ESA Mars Sample Return campaign.'}\n",
      "{'title': 'NASA to Host Briefing on Perseverance Mars Rover Mission Operations', 'preview': 'Members of the mission will discuss the roverâ\\x80\\x99s activities as it gathers samples in an ancient river delta.'}\n",
      "{'title': \"NASA's Perseverance Makes New Discoveries in Mars' Jezero Crater\", 'preview': 'The rover found that Jezero Craterâ\\x80\\x99s floor is made up of volcanic rocks that have interacted with water.'}\n",
      "{'title': \"10 Years Since Landing, NASA's Curiosity Mars Rover Still Has Drive\", 'preview': 'Despite signs of wear, the intrepid spacecraft is about to start an exciting new chapter of its mission as it climbs a Martian mountain.'}\n",
      "{'title': \"SAM's Top 5 Discoveries Aboard NASA's Curiosity Rover at Mars\", 'preview': 'â\\x80\\x9cSelfieâ\\x80\\x9d of the Curiosity rover with inset showing the SAM instrument prior to installation on the rover.'}\n",
      "{'title': \"NASA's MAVEN Observes Martian Light Show Caused by Major Solar Storm\", 'preview': 'For the first time in its eight years orbiting Mars, NASAâ\\x80\\x99s MAVEN mission witnessed two different types of ultraviolet aurorae simultaneously, the result of solar storms that began on Aug. 27.'}\n",
      "{'title': \"NASA Prepares to Say 'Farewell' to InSight Spacecraft\", 'preview': 'A closer look at what goes into wrapping up the mission as the spacecraftâ\\x80\\x99s power supply continues to dwindle.'}\n",
      "{'title': 'NASA and ESA Agree on Next Steps to Return Mars Samples to Earth', 'preview': 'The agencyâ\\x80\\x99s Perseverance rover will establish the first sample depot on Mars.'}\n",
      "{'title': \"NASA's InSight Lander Detects Stunning Meteoroid Impact on Mars\", 'preview': 'The agencyâ\\x80\\x99s lander felt the ground shake during the impact while cameras aboard the Mars Reconnaissance Orbiter spotted the yawning new crater from space.'}\n",
      "{'title': 'NASA To Host Briefing on InSight, Mars Reconnaissance Orbiter Findings', 'preview': 'Scientists from two Mars missions will discuss how they combined images and data for a major finding on the Red Planet.'}\n",
      "{'title': 'Why NASA Is Trying To Crash Land on Mars', 'preview': 'Like a carâ\\x80\\x99s crumple zone, the experimental SHIELD lander is designed to absorb a hard impact.'}\n",
      "{'title': 'Curiosity Mars Rover Reaches Long-Awaited Salty Region', 'preview': 'After years of climbing, the Mars rover has arrived at a special region believed to have formed as Marsâ\\x80\\x99 climate was drying.'}\n",
      "{'title': 'Mars Mission Shields Up for Tests', 'preview': 'Protecting Mars Sample Return spacecraft from micrometeorites requires high-caliber work.'}\n",
      "{'title': \"NASA's InSight Waits Out Dust Storm\", 'preview': 'InSightâ\\x80\\x99s team is taking steps to help the solar-powered lander continue operating for as long as possible.'}\n",
      "{'title': \"NASA's InSight 'Hears' Its First Meteoroid Impacts on Mars\", 'preview': 'The Mars landerâ\\x80\\x99s seismometer has picked up vibrations from four separate impacts in the past two years.'}\n",
      "{'title': \"NASA's Perseverance Rover Investigates Geologically Rich Mars Terrain\", 'preview': 'The latest findings provide greater detail on a region of the Red Planet that has a watery past and is yielding promising samples for the NASA-ESA Mars Sample Return campaign.'}\n",
      "{'title': 'NASA to Host Briefing on Perseverance Mars Rover Mission Operations', 'preview': 'Members of the mission will discuss the roverâ\\x80\\x99s activities as it gathers samples in an ancient river delta.'}\n",
      "{'title': \"NASA's Perseverance Makes New Discoveries in Mars' Jezero Crater\", 'preview': 'The rover found that Jezero Craterâ\\x80\\x99s floor is made up of volcanic rocks that have interacted with water.'}\n",
      "{'title': \"10 Years Since Landing, NASA's Curiosity Mars Rover Still Has Drive\", 'preview': 'Despite signs of wear, the intrepid spacecraft is about to start an exciting new chapter of its mission as it climbs a Martian mountain.'}\n",
      "{'title': \"SAM's Top 5 Discoveries Aboard NASA's Curiosity Rover at Mars\", 'preview': 'â\\x80\\x9cSelfieâ\\x80\\x9d of the Curiosity rover with inset showing the SAM instrument prior to installation on the rover.'}\n"
     ]
    }
   ],
   "source": [
    "# Loop through the text elements\n",
    "# Extract the title and preview text from the elements\n",
    "title_elements = soup.find_all(class_='content_title')\n",
    "preview_elements = soup.find_all(class_='article_teaser_body')\n",
    "\n",
    "# Create an empty list to store the dictionaries\n",
    "dictionaries_list = []\n",
    "\n",
    "# Store each title and preview pair in a dictionary\n",
    "# Loop through the extracted titles and previews and create dictionaries\n",
    "for i in range(len(title_elements)):\n",
    "    news_dict = {\n",
    "        'title': title_elements[i].text.strip(),  # Extract the text content of the title element\n",
    "        'preview': preview_elements[i].text.strip()  # Extract the text content of the preview element\n",
    "    }\n",
    "    news_list.append(news_dict)\n",
    "# Add the dictionary to the list\n",
    "# Print the list of dictionaries\n",
    "for news in news_list:\n",
    "    print(news)"
   ]
  },
  {
   "cell_type": "code",
   "execution_count": 11,
   "metadata": {},
   "outputs": [
    {
     "name": "stdout",
     "output_type": "stream",
     "text": [
      "{'title': \"NASA's MAVEN Observes Martian Light Show Caused by Major Solar Storm\", 'preview': 'For the first time in its eight years orbiting Mars, NASAâ\\x80\\x99s MAVEN mission witnessed two different types of ultraviolet aurorae simultaneously, the result of solar storms that began on Aug. 27.'}\n",
      "{'title': \"NASA Prepares to Say 'Farewell' to InSight Spacecraft\", 'preview': 'A closer look at what goes into wrapping up the mission as the spacecraftâ\\x80\\x99s power supply continues to dwindle.'}\n",
      "{'title': 'NASA and ESA Agree on Next Steps to Return Mars Samples to Earth', 'preview': 'The agencyâ\\x80\\x99s Perseverance rover will establish the first sample depot on Mars.'}\n",
      "{'title': \"NASA's InSight Lander Detects Stunning Meteoroid Impact on Mars\", 'preview': 'The agencyâ\\x80\\x99s lander felt the ground shake during the impact while cameras aboard the Mars Reconnaissance Orbiter spotted the yawning new crater from space.'}\n",
      "{'title': 'NASA To Host Briefing on InSight, Mars Reconnaissance Orbiter Findings', 'preview': 'Scientists from two Mars missions will discuss how they combined images and data for a major finding on the Red Planet.'}\n",
      "{'title': 'Why NASA Is Trying To Crash Land on Mars', 'preview': 'Like a carâ\\x80\\x99s crumple zone, the experimental SHIELD lander is designed to absorb a hard impact.'}\n",
      "{'title': 'Curiosity Mars Rover Reaches Long-Awaited Salty Region', 'preview': 'After years of climbing, the Mars rover has arrived at a special region believed to have formed as Marsâ\\x80\\x99 climate was drying.'}\n",
      "{'title': 'Mars Mission Shields Up for Tests', 'preview': 'Protecting Mars Sample Return spacecraft from micrometeorites requires high-caliber work.'}\n",
      "{'title': \"NASA's InSight Waits Out Dust Storm\", 'preview': 'InSightâ\\x80\\x99s team is taking steps to help the solar-powered lander continue operating for as long as possible.'}\n",
      "{'title': \"NASA's InSight 'Hears' Its First Meteoroid Impacts on Mars\", 'preview': 'The Mars landerâ\\x80\\x99s seismometer has picked up vibrations from four separate impacts in the past two years.'}\n",
      "{'title': \"NASA's Perseverance Rover Investigates Geologically Rich Mars Terrain\", 'preview': 'The latest findings provide greater detail on a region of the Red Planet that has a watery past and is yielding promising samples for the NASA-ESA Mars Sample Return campaign.'}\n",
      "{'title': 'NASA to Host Briefing on Perseverance Mars Rover Mission Operations', 'preview': 'Members of the mission will discuss the roverâ\\x80\\x99s activities as it gathers samples in an ancient river delta.'}\n",
      "{'title': \"NASA's Perseverance Makes New Discoveries in Mars' Jezero Crater\", 'preview': 'The rover found that Jezero Craterâ\\x80\\x99s floor is made up of volcanic rocks that have interacted with water.'}\n",
      "{'title': \"10 Years Since Landing, NASA's Curiosity Mars Rover Still Has Drive\", 'preview': 'Despite signs of wear, the intrepid spacecraft is about to start an exciting new chapter of its mission as it climbs a Martian mountain.'}\n",
      "{'title': \"SAM's Top 5 Discoveries Aboard NASA's Curiosity Rover at Mars\", 'preview': 'â\\x80\\x9cSelfieâ\\x80\\x9d of the Curiosity rover with inset showing the SAM instrument prior to installation on the rover.'}\n",
      "{'title': \"NASA's MAVEN Observes Martian Light Show Caused by Major Solar Storm\", 'preview': 'For the first time in its eight years orbiting Mars, NASAâ\\x80\\x99s MAVEN mission witnessed two different types of ultraviolet aurorae simultaneously, the result of solar storms that began on Aug. 27.'}\n",
      "{'title': \"NASA Prepares to Say 'Farewell' to InSight Spacecraft\", 'preview': 'A closer look at what goes into wrapping up the mission as the spacecraftâ\\x80\\x99s power supply continues to dwindle.'}\n",
      "{'title': 'NASA and ESA Agree on Next Steps to Return Mars Samples to Earth', 'preview': 'The agencyâ\\x80\\x99s Perseverance rover will establish the first sample depot on Mars.'}\n",
      "{'title': \"NASA's InSight Lander Detects Stunning Meteoroid Impact on Mars\", 'preview': 'The agencyâ\\x80\\x99s lander felt the ground shake during the impact while cameras aboard the Mars Reconnaissance Orbiter spotted the yawning new crater from space.'}\n",
      "{'title': 'NASA To Host Briefing on InSight, Mars Reconnaissance Orbiter Findings', 'preview': 'Scientists from two Mars missions will discuss how they combined images and data for a major finding on the Red Planet.'}\n",
      "{'title': 'Why NASA Is Trying To Crash Land on Mars', 'preview': 'Like a carâ\\x80\\x99s crumple zone, the experimental SHIELD lander is designed to absorb a hard impact.'}\n",
      "{'title': 'Curiosity Mars Rover Reaches Long-Awaited Salty Region', 'preview': 'After years of climbing, the Mars rover has arrived at a special region believed to have formed as Marsâ\\x80\\x99 climate was drying.'}\n",
      "{'title': 'Mars Mission Shields Up for Tests', 'preview': 'Protecting Mars Sample Return spacecraft from micrometeorites requires high-caliber work.'}\n",
      "{'title': \"NASA's InSight Waits Out Dust Storm\", 'preview': 'InSightâ\\x80\\x99s team is taking steps to help the solar-powered lander continue operating for as long as possible.'}\n",
      "{'title': \"NASA's InSight 'Hears' Its First Meteoroid Impacts on Mars\", 'preview': 'The Mars landerâ\\x80\\x99s seismometer has picked up vibrations from four separate impacts in the past two years.'}\n",
      "{'title': \"NASA's Perseverance Rover Investigates Geologically Rich Mars Terrain\", 'preview': 'The latest findings provide greater detail on a region of the Red Planet that has a watery past and is yielding promising samples for the NASA-ESA Mars Sample Return campaign.'}\n",
      "{'title': 'NASA to Host Briefing on Perseverance Mars Rover Mission Operations', 'preview': 'Members of the mission will discuss the roverâ\\x80\\x99s activities as it gathers samples in an ancient river delta.'}\n",
      "{'title': \"NASA's Perseverance Makes New Discoveries in Mars' Jezero Crater\", 'preview': 'The rover found that Jezero Craterâ\\x80\\x99s floor is made up of volcanic rocks that have interacted with water.'}\n",
      "{'title': \"10 Years Since Landing, NASA's Curiosity Mars Rover Still Has Drive\", 'preview': 'Despite signs of wear, the intrepid spacecraft is about to start an exciting new chapter of its mission as it climbs a Martian mountain.'}\n",
      "{'title': \"SAM's Top 5 Discoveries Aboard NASA's Curiosity Rover at Mars\", 'preview': 'â\\x80\\x9cSelfieâ\\x80\\x9d of the Curiosity rover with inset showing the SAM instrument prior to installation on the rover.'}\n"
     ]
    }
   ],
   "source": [
    "# Print the list to confirm success\n",
    "for news in news_list:\n",
    "    print(news)"
   ]
  },
  {
   "cell_type": "code",
   "execution_count": 12,
   "metadata": {},
   "outputs": [],
   "source": [
    "browser.quit()"
   ]
  },
  {
   "cell_type": "code",
   "execution_count": null,
   "metadata": {},
   "outputs": [],
   "source": []
  }
 ],
 "metadata": {
  "kernelspec": {
   "display_name": "Python 3 (ipykernel)",
   "language": "python",
   "name": "python3"
  },
  "language_info": {
   "codemirror_mode": {
    "name": "ipython",
    "version": 3
   },
   "file_extension": ".py",
   "mimetype": "text/x-python",
   "name": "python",
   "nbconvert_exporter": "python",
   "pygments_lexer": "ipython3",
   "version": "3.9.17"
  },
  "vscode": {
   "interpreter": {
    "hash": "31f2aee4e71d21fbe5cf8b01ff0e069b9275f58929596ceb00d14d90e3e16cd6"
   }
  }
 },
 "nbformat": 4,
 "nbformat_minor": 4
}
